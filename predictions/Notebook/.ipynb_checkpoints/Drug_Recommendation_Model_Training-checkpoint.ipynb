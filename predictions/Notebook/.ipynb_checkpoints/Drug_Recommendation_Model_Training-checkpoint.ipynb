{
 "cells": [
  {
   "cell_type": "code",
   "execution_count": 1,
   "id": "2a033ca3-44f2-4b93-9c9b-1796f475ac41",
   "metadata": {},
   "outputs": [],
   "source": [
    "# Title: Naive Bayes Drug Recommendation Model with Multi-Label Classification (Filtered)\n",
    "# Description: This notebook builds a supervised learning model for drug recommendation using a Naive Bayes classifier wrapped in OneVsRestClassifier for multi-label classification. Rare labels are filtered to improve model performance.\n",
    "\n",
    "# Import necessary libraries\n",
    "import pandas as pd\n",
    "import numpy as np\n",
    "from sklearn.model_selection import train_test_split\n",
    "from sklearn.naive_bayes import MultinomialNB\n",
    "from sklearn.preprocessing import MultiLabelBinarizer\n",
    "from sklearn.metrics import accuracy_score, f1_score\n",
    "from sklearn.multiclass import OneVsRestClassifier\n",
    "import joblib\n"
   ]
  },
  {
   "cell_type": "code",
   "execution_count": 2,
   "id": "9cdc79a2-1056-4b4c-9a3f-73b64fdf232e",
   "metadata": {},
   "outputs": [
    {
     "data": {
      "text/html": [
       "<div>\n",
       "<style scoped>\n",
       "    .dataframe tbody tr th:only-of-type {\n",
       "        vertical-align: middle;\n",
       "    }\n",
       "\n",
       "    .dataframe tbody tr th {\n",
       "        vertical-align: top;\n",
       "    }\n",
       "\n",
       "    .dataframe thead th {\n",
       "        text-align: right;\n",
       "    }\n",
       "</style>\n",
       "<table border=\"1\" class=\"dataframe\">\n",
       "  <thead>\n",
       "    <tr style=\"text-align: right;\">\n",
       "      <th></th>\n",
       "      <th>uniqueID</th>\n",
       "      <th>drugName</th>\n",
       "      <th>condition</th>\n",
       "      <th>review</th>\n",
       "      <th>rating</th>\n",
       "      <th>date</th>\n",
       "      <th>usefulCount</th>\n",
       "    </tr>\n",
       "  </thead>\n",
       "  <tbody>\n",
       "    <tr>\n",
       "      <th>0</th>\n",
       "      <td>206461</td>\n",
       "      <td>Valsartan</td>\n",
       "      <td>Left Ventricular Dysfunction</td>\n",
       "      <td>\"It has no side effect, I take it in combinati...</td>\n",
       "      <td>9</td>\n",
       "      <td>20-May-12</td>\n",
       "      <td>27</td>\n",
       "    </tr>\n",
       "    <tr>\n",
       "      <th>1</th>\n",
       "      <td>95260</td>\n",
       "      <td>Guanfacine</td>\n",
       "      <td>ADHD</td>\n",
       "      <td>\"My son is halfway through his fourth week of ...</td>\n",
       "      <td>8</td>\n",
       "      <td>27-Apr-10</td>\n",
       "      <td>192</td>\n",
       "    </tr>\n",
       "    <tr>\n",
       "      <th>2</th>\n",
       "      <td>92703</td>\n",
       "      <td>Lybrel</td>\n",
       "      <td>Birth Control</td>\n",
       "      <td>\"I used to take another oral contraceptive, wh...</td>\n",
       "      <td>5</td>\n",
       "      <td>14-Dec-09</td>\n",
       "      <td>17</td>\n",
       "    </tr>\n",
       "    <tr>\n",
       "      <th>3</th>\n",
       "      <td>138000</td>\n",
       "      <td>Ortho Evra</td>\n",
       "      <td>Birth Control</td>\n",
       "      <td>\"This is my first time using any form of birth...</td>\n",
       "      <td>8</td>\n",
       "      <td>3-Nov-15</td>\n",
       "      <td>10</td>\n",
       "    </tr>\n",
       "    <tr>\n",
       "      <th>4</th>\n",
       "      <td>35696</td>\n",
       "      <td>Buprenorphine / naloxone</td>\n",
       "      <td>Opiate Dependence</td>\n",
       "      <td>\"Suboxone has completely turned my life around...</td>\n",
       "      <td>9</td>\n",
       "      <td>27-Nov-16</td>\n",
       "      <td>37</td>\n",
       "    </tr>\n",
       "  </tbody>\n",
       "</table>\n",
       "</div>"
      ],
      "text/plain": [
       "   uniqueID                  drugName                     condition  \\\n",
       "0    206461                 Valsartan  Left Ventricular Dysfunction   \n",
       "1     95260                Guanfacine                          ADHD   \n",
       "2     92703                    Lybrel                 Birth Control   \n",
       "3    138000                Ortho Evra                 Birth Control   \n",
       "4     35696  Buprenorphine / naloxone             Opiate Dependence   \n",
       "\n",
       "                                              review  rating       date  \\\n",
       "0  \"It has no side effect, I take it in combinati...       9  20-May-12   \n",
       "1  \"My son is halfway through his fourth week of ...       8  27-Apr-10   \n",
       "2  \"I used to take another oral contraceptive, wh...       5  14-Dec-09   \n",
       "3  \"This is my first time using any form of birth...       8   3-Nov-15   \n",
       "4  \"Suboxone has completely turned my life around...       9  27-Nov-16   \n",
       "\n",
       "   usefulCount  \n",
       "0           27  \n",
       "1          192  \n",
       "2           17  \n",
       "3           10  \n",
       "4           37  "
      ]
     },
     "execution_count": 2,
     "metadata": {},
     "output_type": "execute_result"
    }
   ],
   "source": [
    "# Load the dataset\n",
    "data = pd.read_csv('drugsComTrain_raw.csv')\n",
    "data.head()\n"
   ]
  },
  {
   "cell_type": "code",
   "execution_count": 3,
   "id": "df07a5f5-e05d-4ad0-aad1-ec6426d95694",
   "metadata": {},
   "outputs": [
    {
     "data": {
      "text/plain": [
       "((161297, 884), (161297, 1846))"
      ]
     },
     "execution_count": 3,
     "metadata": {},
     "output_type": "execute_result"
    }
   ],
   "source": [
    "# Convert condition to lowercase and clean up\n",
    "data['condition'] = data['condition'].str.lower().str.strip()\n",
    "\n",
    "# Create dummy features from condition (can be customized based on symptoms if available)\n",
    "X = pd.get_dummies(data['condition'])\n",
    "\n",
    "# Multi-label binarization for drugs\n",
    "mlb = MultiLabelBinarizer()\n",
    "data['drug_labels'] = data['drugName'].apply(lambda x: [x])  # Wrap drugs in lists for multi-label\n",
    "y = mlb.fit_transform(data['drug_labels'])\n",
    "\n",
    "# Calculate label frequency\n",
    "label_counts = np.sum(y, axis=0)\n",
    "\n",
    "# Set a threshold for minimum label frequency\n",
    "min_label_frequency = 5\n",
    "common_labels = np.where(label_counts >= min_label_frequency)[0]\n",
    "\n",
    "# Filter out uncommon labels from the target variable\n",
    "y_filtered = y[:, common_labels]\n",
    "mlb_filtered = MultiLabelBinarizer()\n",
    "mlb_filtered.classes_ = mlb.classes_[common_labels]\n",
    "\n",
    "# Display shape of filtered features and target\n",
    "X.shape, y_filtered.shape\n"
   ]
  },
  {
   "cell_type": "code",
   "execution_count": null,
   "id": "f0b357f8-5105-4f9a-bb8e-9808b8ac8015",
   "metadata": {},
   "outputs": [],
   "source": [
    "# Split data into training and testing sets\n",
    "X_train, X_test, y_train, y_test = train_test_split(X, y_filtered, test_size=0.2, random_state=42)\n"
   ]
  },
  {
   "cell_type": "code",
   "execution_count": null,
   "id": "b3ac2c87-57fb-47b0-9a80-d3a240d26821",
   "metadata": {},
   "outputs": [],
   "source": [
    "# Wrap Naive Bayes with OneVsRestClassifier for multi-label classification\n",
    "model = OneVsRestClassifier(MultinomialNB())\n",
    "model.fit(X_train, y_train)\n"
   ]
  },
  {
   "cell_type": "code",
   "execution_count": null,
   "id": "7fb4fd08-528c-4c86-9e51-9601296a0b46",
   "metadata": {},
   "outputs": [],
   "source": [
    "# Predict on the test set\n",
    "y_pred = model.predict(X_test)\n",
    "\n",
    "# Evaluate with accuracy and F1-score\n",
    "accuracy = accuracy_score(y_test, y_pred)\n",
    "f1 = f1_score(y_test, y_pred, average='micro')\n",
    "print(f\"Model Accuracy: {accuracy * 100:.2f}%\")\n",
    "print(f\"Model F1 Score: {f1:.2f}\")\n"
   ]
  },
  {
   "cell_type": "code",
   "execution_count": null,
   "id": "2d09e737-0b56-4add-96a6-8e221d711a5d",
   "metadata": {},
   "outputs": [],
   "source": [
    "# Save the Naive Bayes model and filtered multi-label binarizer for later use\n",
    "joblib.dump(model, 'drug_recommendation_model_naive_bayes_filtered.pkl')\n",
    "joblib.dump(mlb_filtered, 'multi_label_binarizer_filtered.pkl')\n",
    "print(\"Naive Bayes model and filtered label binarizer saved successfully.\")\n"
   ]
  },
  {
   "cell_type": "code",
   "execution_count": null,
   "id": "75c09ec4-ea04-460e-a8d3-2a547b6be26a",
   "metadata": {},
   "outputs": [],
   "source": [
    "# Load the model and filtered label binarizer if needed\n",
    "model = joblib.load('drug_recommendation_model_naive_bayes_filtered.pkl')\n",
    "mlb = joblib.load('multi_label_binarizer_filtered.pkl')\n",
    "\n",
    "def recommend_drugs(condition):\n",
    "    # Create dummy features from input condition\n",
    "    condition = condition.lower().strip()\n",
    "    input_vector = pd.get_dummies(pd.Series([condition]), columns=[condition]).reindex(columns=X.columns, fill_value=0)\n",
    "    \n",
    "    # Predict and transform labels back to drug names\n",
    "    predicted = model.predict(input_vector)\n",
    "    drugs = mlb.inverse_transform(predicted)\n",
    "    return drugs[0] if drugs else [\"No specific drug recommendation available\"]\n",
    "\n",
    "# Test the recommendation function\n",
    "recommend_drugs(\"diabetes\")\n"
   ]
  }
 ],
 "metadata": {
  "kernelspec": {
   "display_name": "Python 3 (ipykernel)",
   "language": "python",
   "name": "python3"
  },
  "language_info": {
   "codemirror_mode": {
    "name": "ipython",
    "version": 3
   },
   "file_extension": ".py",
   "mimetype": "text/x-python",
   "name": "python",
   "nbconvert_exporter": "python",
   "pygments_lexer": "ipython3",
   "version": "3.12.3"
  }
 },
 "nbformat": 4,
 "nbformat_minor": 5
}
